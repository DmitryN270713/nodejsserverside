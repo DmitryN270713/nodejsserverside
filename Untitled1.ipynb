{
  "nbformat": 4,
  "nbformat_minor": 0,
  "metadata": {
    "colab": {
      "name": "Untitled1.ipynb",
      "provenance": [],
      "collapsed_sections": [],
      "include_colab_link": true
    },
    "kernelspec": {
      "name": "python3",
      "display_name": "Python 3"
    }
  },
  "cells": [
    {
      "cell_type": "markdown",
      "metadata": {
        "id": "view-in-github",
        "colab_type": "text"
      },
      "source": [
        "<a href=\"https://colab.research.google.com/github/DmitryN270713/nodejsserverside/blob/master/Untitled1.ipynb\" target=\"_parent\"><img src=\"https://colab.research.google.com/assets/colab-badge.svg\" alt=\"Open In Colab\"/></a>"
      ]
    },
    {
      "cell_type": "markdown",
      "metadata": {
        "id": "9IQzOHa7Lq_g",
        "colab_type": "text"
      },
      "source": [
        "Selection sort"
      ]
    },
    {
      "cell_type": "code",
      "metadata": {
        "id": "815Ll8F9Omwv",
        "colab_type": "code",
        "colab": {}
      },
      "source": [
        "import numpy as np\n",
        "\n",
        "arr = np.array([64, 25, 12, 22, 11])\n",
        "length = arr.size"
      ],
      "execution_count": 0,
      "outputs": []
    },
    {
      "cell_type": "code",
      "metadata": {
        "id": "NNnUvQikPAVr",
        "colab_type": "code",
        "colab": {}
      },
      "source": [
        "for i in range(length):\n",
        "  min_indx = i\n",
        "\n",
        "  for j in range(i + 1, length):\n",
        "    if arr[min_indx] > arr[j]:\n",
        "      min_indx = j\n",
        "\n",
        "  arr[i], arr[min_indx] = arr[min_indx], arr[i]\n",
        "\n",
        "print(arr)"
      ],
      "execution_count": 0,
      "outputs": []
    },
    {
      "cell_type": "markdown",
      "metadata": {
        "id": "Gt9TQXn2Rqs5",
        "colab_type": "text"
      },
      "source": [
        "Bubble sort"
      ]
    },
    {
      "cell_type": "code",
      "metadata": {
        "id": "gw8UnjU7Rwez",
        "colab_type": "code",
        "colab": {}
      },
      "source": [
        "arr = np.array([64, 25, 12, 22, 11])"
      ],
      "execution_count": 0,
      "outputs": []
    },
    {
      "cell_type": "code",
      "metadata": {
        "id": "c4-sJ3QMRz5m",
        "colab_type": "code",
        "colab": {
          "base_uri": "https://localhost:8080/",
          "height": 34
        },
        "outputId": "b31cf0cc-ddc7-4c34-88cc-cda3de7fb57a"
      },
      "source": [
        "for i in range(length):\n",
        "  for j in range(length - i - 1):\n",
        "    if arr[j] > arr[j + 1]:\n",
        "      arr[j], arr[j + 1] = arr[j + 1], arr[j]\n",
        "\n",
        "  \n",
        "print(arr)"
      ],
      "execution_count": 13,
      "outputs": [
        {
          "output_type": "stream",
          "text": [
            "[11 12 22 25 64]\n"
          ],
          "name": "stdout"
        }
      ]
    },
    {
      "cell_type": "markdown",
      "metadata": {
        "id": "PCHMprhdTqRF",
        "colab_type": "text"
      },
      "source": [
        "Recursive bubble sort"
      ]
    },
    {
      "cell_type": "code",
      "metadata": {
        "id": "moZjISgKTtHx",
        "colab_type": "code",
        "colab": {}
      },
      "source": [
        "arr = np.array([64, 25, 12, 22, 11])"
      ],
      "execution_count": 0,
      "outputs": []
    },
    {
      "cell_type": "code",
      "metadata": {
        "id": "tb-Z8iLNTyTb",
        "colab_type": "code",
        "colab": {}
      },
      "source": [
        "def recursiveBubble(arr, n):\n",
        "  if n == 1:\n",
        "    return\n",
        "\n",
        "  for i in range(n - 1):\n",
        "    if arr[i] > arr[i + 1]:\n",
        "      arr[i], arr[i + 1] = arr[i + 1], arr[i]\n",
        "\n",
        "  recursiveBubble(arr, n - 1)"
      ],
      "execution_count": 0,
      "outputs": []
    },
    {
      "cell_type": "code",
      "metadata": {
        "id": "7weVX_ZiW0vv",
        "colab_type": "code",
        "colab": {
          "base_uri": "https://localhost:8080/",
          "height": 34
        },
        "outputId": "1635d5aa-e305-4fef-b23f-446006952e90"
      },
      "source": [
        "recursiveBubble(arr, length)\n",
        "\n",
        "print(arr)"
      ],
      "execution_count": 34,
      "outputs": [
        {
          "output_type": "stream",
          "text": [
            "[11 12 22 25 64]\n"
          ],
          "name": "stdout"
        }
      ]
    },
    {
      "cell_type": "markdown",
      "metadata": {
        "id": "iiDMXo3gXTNB",
        "colab_type": "text"
      },
      "source": [
        "Insertion sort"
      ]
    },
    {
      "cell_type": "code",
      "metadata": {
        "id": "FeLvS8aZXYoe",
        "colab_type": "code",
        "colab": {}
      },
      "source": [
        "arr = np.array([64, 25, 12, 22, 11])"
      ],
      "execution_count": 0,
      "outputs": []
    },
    {
      "cell_type": "code",
      "metadata": {
        "id": "U0p7HSlEXbwP",
        "colab_type": "code",
        "colab": {
          "base_uri": "https://localhost:8080/",
          "height": 34
        },
        "outputId": "f100b85d-5586-4c4f-934a-6fff6e0f7367"
      },
      "source": [
        "for i in range(1, length):\n",
        "  for j in range(i):\n",
        "    if arr[i] < arr[j]:\n",
        "      arr[i], arr[j] = arr[j], arr[i]\n",
        "\n",
        "print(arr)"
      ],
      "execution_count": 67,
      "outputs": [
        {
          "output_type": "stream",
          "text": [
            "[11 12 22 25 64]\n"
          ],
          "name": "stdout"
        }
      ]
    },
    {
      "cell_type": "markdown",
      "metadata": {
        "id": "yybIHzxtn465",
        "colab_type": "text"
      },
      "source": [
        "Recursive insert sort"
      ]
    },
    {
      "cell_type": "code",
      "metadata": {
        "id": "1lTlSDd1n8t8",
        "colab_type": "code",
        "colab": {}
      },
      "source": [
        "arr = np.array([64, 25, 12, 22, 11])"
      ],
      "execution_count": 0,
      "outputs": []
    },
    {
      "cell_type": "code",
      "metadata": {
        "id": "_XkPPKWDoWHU",
        "colab_type": "code",
        "colab": {}
      },
      "source": [
        "def recursiveInsert(arr, n=1):\n",
        "  length = arr.size\n",
        "\n",
        "  if n >= length:\n",
        "    return\n",
        "\n",
        "  for j in range(n):\n",
        "    if arr[n] < arr[j]:\n",
        "      arr[n], arr[j] = arr[j], arr[n]\n",
        "    \n",
        "    recursiveInsert(arr, n + 1)"
      ],
      "execution_count": 0,
      "outputs": []
    },
    {
      "cell_type": "code",
      "metadata": {
        "id": "qYB9Dc4CrB5B",
        "colab_type": "code",
        "colab": {
          "base_uri": "https://localhost:8080/",
          "height": 34
        },
        "outputId": "d6083818-6c1a-453b-dd9c-d755ef61066f"
      },
      "source": [
        "recursiveInsert(arr)\n",
        "print(arr)"
      ],
      "execution_count": 79,
      "outputs": [
        {
          "output_type": "stream",
          "text": [
            "[11 12 22 25 64]\n"
          ],
          "name": "stdout"
        }
      ]
    },
    {
      "cell_type": "markdown",
      "metadata": {
        "id": "M3Gpl1q7AuHT",
        "colab_type": "text"
      },
      "source": [
        "Merge sort"
      ]
    },
    {
      "cell_type": "code",
      "metadata": {
        "id": "V8LYInixAv-9",
        "colab_type": "code",
        "colab": {}
      },
      "source": [
        "arrData = [64, 25, 12, 22, 11, 5, 7, 4, 3, 35, 57]"
      ],
      "execution_count": 0,
      "outputs": []
    },
    {
      "cell_type": "code",
      "metadata": {
        "id": "M3KKz-9IBBUP",
        "colab_type": "code",
        "colab": {}
      },
      "source": [
        "def mergeSort(arr):\n",
        " \n",
        "  arrLen = len(arr)\n",
        "  if arrLen > 1:\n",
        "    middle = arrLen // 2\n",
        "\n",
        "    left = arr[:middle]\n",
        "    right = arr[middle:]\n",
        "\n",
        "    mergeSort(left)\n",
        "    mergeSort(right)\n",
        "\n",
        "    i = j = k = 0\n",
        "    while i < len(left) and j < len(right):\n",
        "      if left[i] < right[j]:\n",
        "        arr[k] = left[i]\n",
        "        i += 1\n",
        "      else:\n",
        "        arr[k] = right[j]\n",
        "        j += 1\n",
        "      k += 1\n",
        "\n",
        "    while i < len(left):\n",
        "      arr[k] = left[i]\n",
        "      i += 1\n",
        "      k += 1\n",
        "\n",
        "    while j < len(right):\n",
        "      arr[k] = right[j]\n",
        "      j += 1\n",
        "      k += 1\n",
        "  "
      ],
      "execution_count": 0,
      "outputs": []
    },
    {
      "cell_type": "code",
      "metadata": {
        "id": "0ZTGiFBaMkeY",
        "colab_type": "code",
        "colab": {
          "base_uri": "https://localhost:8080/",
          "height": 34
        },
        "outputId": "180f0446-5083-4f3a-9695-e67be817f72b"
      },
      "source": [
        "mergeSort(arrData)\n",
        "print(arrData)"
      ],
      "execution_count": 143,
      "outputs": [
        {
          "output_type": "stream",
          "text": [
            "[3, 4, 5, 7, 11, 12, 22, 25, 35, 57, 64]\n"
          ],
          "name": "stdout"
        }
      ]
    },
    {
      "cell_type": "markdown",
      "metadata": {
        "id": "JJhRk9qldHbH",
        "colab_type": "text"
      },
      "source": [
        "Quick sort"
      ]
    },
    {
      "cell_type": "code",
      "metadata": {
        "id": "59oNevNidJMu",
        "colab_type": "code",
        "colab": {}
      },
      "source": [
        "arrData = [64, 25, 12, 22, 11, 5, 7, 4, 3, 35, 57]"
      ],
      "execution_count": 0,
      "outputs": []
    },
    {
      "cell_type": "code",
      "metadata": {
        "id": "iiLm-Ec_dOVK",
        "colab_type": "code",
        "colab": {}
      },
      "source": [
        "def partition (arr, low, high):\n",
        "  pivot = arr[high]\n",
        " \n",
        "  i = (low - 1)\n",
        "\n",
        "  for j in range(low, high):\n",
        "    if arr[j] < pivot:\n",
        "      i += 1\n",
        "      arr[i], arr[j] = arr[j], arr[i]\n",
        "\n",
        "  arr[i + 1], arr[high] = arr[high], arr[i + 1]\n",
        "  return (i + 1)"
      ],
      "execution_count": 0,
      "outputs": []
    },
    {
      "cell_type": "code",
      "metadata": {
        "id": "JxD7iB-peahD",
        "colab_type": "code",
        "colab": {}
      },
      "source": [
        "def quickSort(arr, low, high):\n",
        "  if low < high:\n",
        "    pi = partition(arr, low, high)\n",
        "\n",
        "    quickSort(arr, low, pi - 1)\n",
        "    quickSort(arr, pi + 1, high)"
      ],
      "execution_count": 0,
      "outputs": []
    },
    {
      "cell_type": "code",
      "metadata": {
        "id": "74d4BQ1Uex8o",
        "colab_type": "code",
        "colab": {
          "base_uri": "https://localhost:8080/",
          "height": 34
        },
        "outputId": "9ea1aae4-7093-49f8-dc3c-e290c39f4f92"
      },
      "source": [
        "quickSort(arrData, 0, len(arrData) - 1)\n",
        "print(arrData)"
      ],
      "execution_count": 157,
      "outputs": [
        {
          "output_type": "stream",
          "text": [
            "[3, 4, 5, 7, 11, 12, 22, 25, 35, 57, 64]\n"
          ],
          "name": "stdout"
        }
      ]
    },
    {
      "cell_type": "markdown",
      "metadata": {
        "id": "-ESutggsbJ5c",
        "colab_type": "text"
      },
      "source": [
        "Heapsort (wiki is used to implement this)"
      ]
    },
    {
      "cell_type": "code",
      "metadata": {
        "id": "rp-paekibftE",
        "colab_type": "code",
        "colab": {}
      },
      "source": [
        "arr = [64, 25, 12, 22, 11, 5, 7, 4, 3, 35, 57]\n",
        "length = len(arr)"
      ],
      "execution_count": 0,
      "outputs": []
    },
    {
      "cell_type": "code",
      "metadata": {
        "id": "yAUlTOc7kgKX",
        "colab_type": "code",
        "colab": {}
      },
      "source": [
        "def siftDown(arr, start, end):\n",
        "  root = start\n",
        "  \n",
        "  while (root * 2 + 1) <= end:\n",
        "    child = root * 2 + 1\n",
        "    swap = root\n",
        "\n",
        "    if arr[swap] < arr[child]:\n",
        "      swap = child\n",
        "\n",
        "    if (child + 1) <= end and arr[swap] < arr[child + 1]:\n",
        "      swap = child + 1\n",
        "\n",
        "    if swap == root:\n",
        "      return\n",
        "    else:\n",
        "      arr[root], arr[swap] = arr[swap], arr[root]\n",
        "      root = swap"
      ],
      "execution_count": 0,
      "outputs": []
    },
    {
      "cell_type": "code",
      "metadata": {
        "id": "nUCr6ACgfgSS",
        "colab_type": "code",
        "colab": {}
      },
      "source": [
        "def heapify(arr, length):\n",
        "  start = int(np.floor((length - 1) / 2))\n",
        "  for i in range(start, -1, -1):\n",
        "    siftDown(arr, start, length - 1)\n",
        "    start -= 1"
      ],
      "execution_count": 0,
      "outputs": []
    },
    {
      "cell_type": "code",
      "metadata": {
        "id": "m6oqb344br-k",
        "colab_type": "code",
        "colab": {}
      },
      "source": [
        "def sortHeap(arr, length):\n",
        "  heapify(arr, length - 1)\n",
        "  end = length - 1\n",
        "\n",
        "  while end > 0:\n",
        "    arr[end], arr[0] = arr[0], arr[end]\n",
        "    end -= 1\n",
        "    siftDown(arr, 0, end)"
      ],
      "execution_count": 0,
      "outputs": []
    },
    {
      "cell_type": "code",
      "metadata": {
        "id": "LvYqVXqapTYn",
        "colab_type": "code",
        "colab": {
          "base_uri": "https://localhost:8080/",
          "height": 34
        },
        "outputId": "e5db3ea8-6f00-4052-f6be-d4a8cd9595b2"
      },
      "source": [
        "sortHeap(arr, length)\n",
        "print(arr)"
      ],
      "execution_count": 20,
      "outputs": [
        {
          "output_type": "stream",
          "text": [
            "[3, 4, 5, 7, 11, 12, 22, 25, 35, 64, 57]\n"
          ],
          "name": "stdout"
        }
      ]
    },
    {
      "cell_type": "markdown",
      "metadata": {
        "id": "g4z8Y4at9xlE",
        "colab_type": "text"
      },
      "source": [
        "Counting sort"
      ]
    },
    {
      "cell_type": "code",
      "metadata": {
        "id": "W_Vr0mas9zTt",
        "colab_type": "code",
        "colab": {}
      },
      "source": [
        "arr = [64, 25, 12, 22, 11, 5, 7, 4, 3, 35, 57]\n",
        "maxKey = max(arr)"
      ],
      "execution_count": 0,
      "outputs": []
    },
    {
      "cell_type": "code",
      "metadata": {
        "id": "iewXzQFmAF1A",
        "colab_type": "code",
        "colab": {}
      },
      "source": [
        "def countSort(arr, k):\n",
        "  \n",
        "  countArr = np.zeros(k + 1, dtype=int)\n",
        "  \n",
        "  for value in arr:\n",
        "    countArr[value] += 1\n",
        "\n",
        "  total = 0\n",
        "  for i in range(k + 1):\n",
        "    countArr[i], total = total, countArr[i] + total\n",
        "\n",
        "  output = np.zeros(len(arr), dtype=int)\n",
        "  for value in arr:\n",
        "    output[countArr[value]] = value\n",
        "    countArr[value] += 1\n",
        "\n",
        "  return output"
      ],
      "execution_count": 0,
      "outputs": []
    },
    {
      "cell_type": "code",
      "metadata": {
        "id": "i383_naaEUPv",
        "colab_type": "code",
        "colab": {
          "base_uri": "https://localhost:8080/",
          "height": 34
        },
        "outputId": "8bac79b9-36d9-4b10-eeb2-dde20a54727d"
      },
      "source": [
        "output = countSort(arr, maxKey)\n",
        "print(output)"
      ],
      "execution_count": 61,
      "outputs": [
        {
          "output_type": "stream",
          "text": [
            "[ 3  4  5  7 11 12 22 25 35 57 64]\n"
          ],
          "name": "stdout"
        }
      ]
    },
    {
      "cell_type": "markdown",
      "metadata": {
        "id": "QEIKf6CCMLWf",
        "colab_type": "text"
      },
      "source": [
        "Radix sort"
      ]
    },
    {
      "cell_type": "code",
      "metadata": {
        "id": "8LcYsKL8MKD2",
        "colab_type": "code",
        "colab": {}
      },
      "source": [
        "arr = [64, 25, 12, 22, 11, 5, 7, 4, 3, 35, 57]\n",
        "maxKey = max(arr)"
      ],
      "execution_count": 0,
      "outputs": []
    },
    {
      "cell_type": "code",
      "metadata": {
        "id": "BkEAoWRId0ux",
        "colab_type": "code",
        "colab": {}
      },
      "source": [
        "def countSortRadix(arr, div):\n",
        "  n = len(arr) \n",
        "\n",
        "  output = [0] * (n) \n",
        "  count = [0] * (10) \n",
        "\n",
        "  for i in range(0, n): \n",
        "    index = int(arr[i] / div)\n",
        "    count[(index) % 10] += 1\n",
        "\n",
        "  for i in range(1, 10): \n",
        "    count[i] += count[i-1] \n",
        "\n",
        "  i = n - 1\n",
        "  while i >= 0: \n",
        "    index = int(arr[i] / div) \n",
        "    output[count[(index) % 10] - 1] = arr[i] \n",
        "    count[(index) % 10] -= 1\n",
        "    i -= 1\n",
        "\n",
        "  i = 0\n",
        "  for i in range(0, len(arr)): \n",
        "    arr[i] = output[i] "
      ],
      "execution_count": 0,
      "outputs": []
    },
    {
      "cell_type": "code",
      "metadata": {
        "id": "Fi8ZBdVkSlvr",
        "colab_type": "code",
        "colab": {}
      },
      "source": [
        "def radixSort(arr, k):\n",
        "  div = 1\n",
        "  while k / div > 0: \n",
        "    countSortRadix(arr, div) \n",
        "    div *= 10"
      ],
      "execution_count": 0,
      "outputs": []
    },
    {
      "cell_type": "code",
      "metadata": {
        "id": "mcen9CU5gEyx",
        "colab_type": "code",
        "colab": {
          "base_uri": "https://localhost:8080/",
          "height": 34
        },
        "outputId": "9a3249c5-dfb9-4bc1-c962-fa0526c11af6"
      },
      "source": [
        "radixSort(arr, maxKey)\n",
        "print(arr)"
      ],
      "execution_count": 147,
      "outputs": [
        {
          "output_type": "stream",
          "text": [
            "[3, 4, 5, 7, 11, 12, 22, 25, 35, 57, 64]\n"
          ],
          "name": "stdout"
        }
      ]
    },
    {
      "cell_type": "markdown",
      "metadata": {
        "id": "LRPbeH2InciD",
        "colab_type": "text"
      },
      "source": [
        "Bucketsort (based on wikipedia)"
      ]
    },
    {
      "cell_type": "code",
      "metadata": {
        "id": "oFMkPcwSlZdr",
        "colab_type": "code",
        "colab": {}
      },
      "source": [
        "arr = np.arange(0, 1.0, 0.05)\n",
        "np.random.shuffle(arr)\n",
        "BUCKETS_NBR = int(len(arr) / 4) # 4 elements per bucket"
      ],
      "execution_count": 0,
      "outputs": []
    },
    {
      "cell_type": "code",
      "metadata": {
        "id": "ypDZ48IHvG7d",
        "colab_type": "code",
        "colab": {}
      },
      "source": [
        "def insertionSort(b): \n",
        "  for i in range(1, len(b)): \n",
        "    up = b[i] \n",
        "    j = i - 1\n",
        "    while j >=0 and b[j] > up:  \n",
        "      b[j + 1] = b[j] \n",
        "      j -= 1\n",
        "      b[j + 1] = up      \n",
        "  return b "
      ],
      "execution_count": 0,
      "outputs": []
    },
    {
      "cell_type": "code",
      "metadata": {
        "id": "eluFXXCCmhYz",
        "colab_type": "code",
        "colab": {}
      },
      "source": [
        "def bucketSort(arr, k):\n",
        "  listOfBuckets = [[] for i in range(k)]\n",
        "\n",
        "  for value in arr:\n",
        "    index_b = int(value * k)\n",
        "    listOfBuckets[index_b].append(value)\n",
        "\n",
        "  for i in range(k): \n",
        "    listOfBuckets[i] = insertionSort(listOfBuckets[i])\n",
        "\n",
        "  for i in range(k):\n",
        "    for j in range(int(len(arr) / k)):\n",
        "      arr[int(i * len(arr) / k) + j] = listOfBuckets[i][j]\n",
        "  \n",
        "  return arr"
      ],
      "execution_count": 0,
      "outputs": []
    },
    {
      "cell_type": "code",
      "metadata": {
        "id": "2hboLjCsoi0r",
        "colab_type": "code",
        "colab": {
          "base_uri": "https://localhost:8080/",
          "height": 51
        },
        "outputId": "17d3ddba-c20d-45bc-bb37-cdc025074c0d"
      },
      "source": [
        "arr = bucketSort(arr, BUCKETS_NBR)\n",
        "print(arr)"
      ],
      "execution_count": 46,
      "outputs": [
        {
          "output_type": "stream",
          "text": [
            "[0.   0.05 0.1  0.15 0.2  0.25 0.3  0.35 0.4  0.45 0.5  0.55 0.6  0.65\n",
            " 0.7  0.75 0.8  0.85 0.9  0.95]\n"
          ],
          "name": "stdout"
        }
      ]
    },
    {
      "cell_type": "markdown",
      "metadata": {
        "id": "UAmPBbf_9yV2",
        "colab_type": "text"
      },
      "source": [
        "Shellsort (wikipedia used)"
      ]
    },
    {
      "cell_type": "code",
      "metadata": {
        "id": "xAtAODOd_W_C",
        "colab_type": "code",
        "colab": {}
      },
      "source": [
        "arr = np.arange(100)\n",
        "np.random.shuffle(arr)\n",
        "arr = list(arr)"
      ],
      "execution_count": 0,
      "outputs": []
    },
    {
      "cell_type": "code",
      "metadata": {
        "id": "tkzQFOga937P",
        "colab_type": "code",
        "colab": {}
      },
      "source": [
        "def shellSort(arr):\n",
        "  length = len(arr)\n",
        "  gaps = [701, 301, 132, 57, 23, 10, 4, 1]\n",
        "\n",
        "  for gap in gaps:\n",
        "    for i in range(gap, length):\n",
        "      temp = arr[i]\n",
        "\n",
        "      j = i\n",
        "      while j >= gap and arr[j - gap] > temp:\n",
        "        arr[j] = arr[j - gap]\n",
        "        j -= gap\n",
        "\n",
        "      arr[j] = temp\n",
        "\n",
        "  return arr"
      ],
      "execution_count": 0,
      "outputs": []
    },
    {
      "cell_type": "code",
      "metadata": {
        "id": "wEP1R9EaCHeg",
        "colab_type": "code",
        "colab": {
          "base_uri": "https://localhost:8080/",
          "height": 54
        },
        "outputId": "66fc086a-f380-487e-89a7-e65839bc3891"
      },
      "source": [
        "arr = shellSort(arr)\n",
        "\n",
        "print(arr)"
      ],
      "execution_count": 83,
      "outputs": [
        {
          "output_type": "stream",
          "text": [
            "[0, 1, 2, 3, 4, 5, 6, 7, 8, 9, 10, 11, 12, 13, 14, 15, 16, 17, 18, 19, 20, 21, 22, 23, 24, 25, 26, 27, 28, 29, 30, 31, 32, 33, 34, 35, 36, 37, 38, 39, 40, 41, 42, 43, 44, 45, 46, 47, 48, 49, 50, 51, 52, 53, 54, 55, 56, 57, 58, 59, 60, 61, 62, 63, 64, 65, 66, 67, 68, 69, 70, 71, 72, 73, 74, 75, 76, 77, 78, 79, 80, 81, 82, 83, 84, 85, 86, 87, 88, 89, 90, 91, 92, 93, 94, 95, 96, 97, 98, 99]\n"
          ],
          "name": "stdout"
        }
      ]
    }
  ]
}